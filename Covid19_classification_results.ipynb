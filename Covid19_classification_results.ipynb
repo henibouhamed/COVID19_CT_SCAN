{
 "cells": [
  {
   "cell_type": "code",
   "execution_count": 1,
   "id": "5c9e4b46",
   "metadata": {},
   "outputs": [
    {
     "name": "stderr",
     "output_type": "stream",
     "text": [
      "C:\\ProgramData\\anaconda3\\Lib\\site-packages\\paramiko\\transport.py:219: CryptographyDeprecationWarning: Blowfish has been deprecated\n",
      "  \"class\": algorithms.Blowfish,\n"
     ]
    }
   ],
   "source": [
    "from sklearn.metrics import classification_report, accuracy_score\n",
    "from sklearn.model_selection import train_test_split, GridSearchCV\n",
    "from sklearn.ensemble import RandomForestClassifier\n",
    "\n",
    "import cv2\n",
    "import numpy as np\n",
    "from skimage.feature import local_binary_pattern"
   ]
  },
  {
   "cell_type": "code",
   "execution_count": 2,
   "id": "7a65835b",
   "metadata": {},
   "outputs": [],
   "source": [
    "def compute_lbp_histogram(image, radius, n_points):\n",
    "    lbp = local_binary_pattern(image, n_points, radius, method='nri_uniform')\n",
    "    (hist, _) = np.histogram(lbp.ravel(), bins=np.arange(60), range=(0, 59))\n",
    "    hist = hist.astype(\"float\")\n",
    "    hist /= hist.sum()  \n",
    "    return hist"
   ]
  },
  {
   "cell_type": "code",
   "execution_count": 3,
   "id": "5a4a5be9",
   "metadata": {},
   "outputs": [],
   "source": [
    "def process_images(image_folder, num_images, label):\n",
    "    all_histograms = []\n",
    "    if label == 1:\n",
    "        for i in range(1, num_images):\n",
    "            image_path = f\"{image_folder}/{i}.jpg\"\n",
    "            image = cv2.imread(image_path, cv2.IMREAD_GRAYSCALE)\n",
    "            if image is None:\n",
    "                print(f\"Error loading image: {image_path}\")\n",
    "                continue\n",
    "            hist1 = compute_lbp_histogram(image, 1, 8)\n",
    "            hist2 = compute_lbp_histogram(image, 2, 8)\n",
    "            hist3 = compute_lbp_histogram(image, 3, 8)\n",
    "            combined_hist = np.hstack([hist1, hist2, hist3])\n",
    "            \n",
    "            # Append the class label to each histogram\n",
    "            labeled_hist = np.append(combined_hist, label)\n",
    "            all_histograms.append(labeled_hist)\n",
    "    else:\n",
    "        for i in range(1, num_images):\n",
    "            image_path = f\"{image_folder}/-{i}.jpg\"\n",
    "            image = cv2.imread(image_path, cv2.IMREAD_GRAYSCALE)\n",
    "            if image is None:\n",
    "                print(f\"Error loading image: {image_path}\")\n",
    "                continue\n",
    "            hist1 = compute_lbp_histogram(image, 1, 8)\n",
    "            hist2 = compute_lbp_histogram(image, 2, 8)\n",
    "            hist3 = compute_lbp_histogram(image, 3, 8)\n",
    "            combined_hist = np.hstack([hist1, hist2, hist3])\n",
    "            \n",
    "            # Append the class label to each histogram\n",
    "            labeled_hist = np.append(combined_hist, label)\n",
    "            all_histograms.append(labeled_hist)\n",
    "    \n",
    "    return np.vstack(all_histograms)"
   ]
  },
  {
   "cell_type": "code",
   "execution_count": 4,
   "id": "5d33a554",
   "metadata": {},
   "outputs": [],
   "source": [
    "# Process COVID images with label 1\n",
    "covid_folder = \"C://covid\"\n",
    "num_covid_images = 69\n",
    "covid_histograms = process_images(covid_folder, num_covid_images, label=1)\n"
   ]
  },
  {
   "cell_type": "code",
   "execution_count": 5,
   "id": "96a1a7f0",
   "metadata": {},
   "outputs": [],
   "source": [
    "# Process non-COVID images with label 0\n",
    "non_covid_folder = \"C://noncovid\"\n",
    "num_non_covid_images = 69\n",
    "non_covid_histograms = process_images(non_covid_folder, num_non_covid_images, label=0)"
   ]
  },
  {
   "cell_type": "code",
   "execution_count": 6,
   "id": "10aef901",
   "metadata": {},
   "outputs": [],
   "source": [
    "# Concatenate the datasets\n",
    "dataset = np.vstack((covid_histograms, non_covid_histograms))"
   ]
  },
  {
   "cell_type": "code",
   "execution_count": 7,
   "id": "77cf9f81",
   "metadata": {},
   "outputs": [
    {
     "data": {
      "text/plain": [
       "array([[0.129725, 0.052275, 0.00215 , ..., 0.085675, 0.474225, 1.      ],\n",
       "       [0.12495 , 0.02625 , 0.0046  , ..., 0.10535 , 0.38175 , 1.      ],\n",
       "       [0.115875, 0.0213  , 0.00515 , ..., 0.09705 , 0.353675, 1.      ],\n",
       "       ...,\n",
       "       [0.116625, 0.022675, 0.0053  , ..., 0.10725 , 0.36615 , 0.      ],\n",
       "       [0.115675, 0.044875, 0.002425, ..., 0.087925, 0.436125, 0.      ],\n",
       "       [0.1133  , 0.0325  , 0.0034  , ..., 0.096825, 0.407975, 0.      ]])"
      ]
     },
     "execution_count": 7,
     "metadata": {},
     "output_type": "execute_result"
    }
   ],
   "source": [
    "dataset"
   ]
  },
  {
   "cell_type": "code",
   "execution_count": 8,
   "id": "872ebee3",
   "metadata": {},
   "outputs": [],
   "source": [
    "# Separate features (X) and labels (y)\n",
    "X = dataset[:, :-1]  \n",
    "y = dataset[:, -1] "
   ]
  },
  {
   "cell_type": "code",
   "execution_count": 9,
   "id": "03436af9",
   "metadata": {},
   "outputs": [],
   "source": [
    "# Separate features (X) and labels (y)\n",
    "X = dataset[:, :-1]  \n",
    "y = dataset[:, -1] "
   ]
  },
  {
   "cell_type": "code",
   "execution_count": 10,
   "id": "a8b31eaa",
   "metadata": {},
   "outputs": [
    {
     "name": "stdout",
     "output_type": "stream",
     "text": [
      "Features shape (X): (136, 177)\n",
      "Labels shape (y): (136,)\n",
      "Sample of X: [[0.129725 0.052275 0.00215  0.0117   0.002025 0.0506   0.002325 0.01255\n",
      "  0.002275 0.006125 0.006575 0.00425  0.003775 0.00705  0.005325 0.00505\n",
      "  0.0048   0.006325 0.0036   0.005225 0.0069   0.00485  0.0038   0.00555\n",
      "  0.0069   0.007325 0.003875 0.003125 0.00545  0.00445  0.0032   0.004175\n",
      "  0.00575  0.0086   0.005125 0.0055   0.0043   0.008725 0.004525 0.00575\n",
      "  0.00475  0.004225 0.004625 0.0059   0.005425 0.0052   0.0051   0.005475\n",
      "  0.005375 0.0029   0.008725 0.00305  0.0519   0.0033   0.009375 0.002925\n",
      "  0.050775 0.13885  0.250525 0.1093   0.02555  0.0039   0.025825 0.003775\n",
      "  0.02475  0.00455  0.0304   0.003775 0.0029   0.0032   0.004175 0.003325\n",
      "  0.002675 0.00275  0.0039   0.003325 0.0046   0.0027   0.004325 0.00265\n",
      "  0.004225 0.002575 0.004325 0.002775 0.00375  0.00615  0.005275 0.00165\n",
      "  0.002375 0.006925 0.005725 0.002425 0.00405  0.0035   0.004325 0.003125\n",
      "  0.003625 0.002725 0.0044   0.003175 0.003275 0.0038   0.001825 0.00215\n",
      "  0.0034   0.0034   0.002575 0.00145  0.004525 0.029075 0.003725 0.024375\n",
      "  0.004875 0.027325 0.0031   0.02435  0.110325 0.397    0.089875 0.018275\n",
      "  0.008675 0.015975 0.0082   0.017525 0.008525 0.0179   0.008725 0.00605\n",
      "  0.006175 0.002875 0.00275  0.005975 0.006425 0.0023   0.00275  0.00335\n",
      "  0.00405  0.002875 0.001575 0.002875 0.004575 0.00305  0.001875 0.003475\n",
      "  0.00595  0.006    0.0019   0.00175  0.00625  0.0057   0.002325 0.003\n",
      "  0.0021   0.005575 0.002375 0.002575 0.001875 0.005525 0.002175 0.001925\n",
      "  0.001925 0.005275 0.005775 0.001875 0.001575 0.005275 0.00605  0.009525\n",
      "  0.015225 0.008275 0.017    0.00885  0.014925 0.007475 0.0174   0.085675\n",
      "  0.474225]\n",
      " [0.12495  0.02625  0.0046   0.0223   0.00405  0.023775 0.004825 0.01995\n",
      "  0.0041   0.00745  0.007375 0.0077   0.00715  0.00705  0.006625 0.00685\n",
      "  0.0071   0.0082   0.00595  0.0087   0.00705  0.00905  0.006775 0.0077\n",
      "  0.00665  0.00745  0.006325 0.007725 0.006825 0.0069   0.00805  0.006725\n",
      "  0.006625 0.00775  0.008    0.007475 0.008175 0.007325 0.008075 0.007575\n",
      "  0.006    0.006225 0.006225 0.008    0.006925 0.0083   0.006975 0.00765\n",
      "  0.0071   0.006525 0.02005  0.005125 0.0218   0.005825 0.021475 0.0047\n",
      "  0.020525 0.140825 0.226575 0.128625 0.022125 0.007275 0.02095  0.0073\n",
      "  0.02085  0.007475 0.0217   0.006525 0.003975 0.005    0.0047   0.004625\n",
      "  0.0049   0.005275 0.0048   0.004225 0.00425  0.003925 0.005725 0.003525\n",
      "  0.0057   0.004275 0.00515  0.0034   0.004725 0.005825 0.007375 0.0056\n",
      "  0.0053   0.0071   0.005275 0.0049   0.00505  0.003375 0.004475 0.004325\n",
      "  0.00425  0.0038   0.0057   0.003425 0.003375 0.00305  0.004025 0.004525\n",
      "  0.003625 0.0035   0.004    0.00385  0.007425 0.019775 0.00575  0.0204\n",
      "  0.007275 0.019875 0.00635  0.02025  0.142275 0.3239   0.104675 0.0164\n",
      "  0.011    0.0175   0.009475 0.0162   0.01045  0.018025 0.00845  0.004925\n",
      "  0.005275 0.00555  0.004725 0.004675 0.00515  0.005075 0.0049   0.0045\n",
      "  0.004025 0.00575  0.0034   0.0049   0.004725 0.004675 0.0037   0.004925\n",
      "  0.005675 0.007325 0.00615  0.00575  0.007325 0.0056   0.005075 0.005375\n",
      "  0.0032   0.00455  0.0048   0.00495  0.00405  0.006175 0.00395  0.003825\n",
      "  0.00405  0.0044   0.0051   0.00465  0.004075 0.0043   0.0044   0.009975\n",
      "  0.015625 0.01035  0.015775 0.010725 0.017025 0.010675 0.01495  0.10535\n",
      "  0.38175 ]\n",
      " [0.115875 0.0213   0.00515  0.0228   0.004575 0.022175 0.0043   0.02195\n",
      "  0.0046   0.00735  0.00835  0.008075 0.005975 0.007525 0.0074   0.00695\n",
      "  0.007    0.009475 0.0095   0.011025 0.00555  0.01005  0.007475 0.010625\n",
      "  0.0058   0.006175 0.011475 0.013525 0.007075 0.007475 0.01105  0.012425\n",
      "  0.008275 0.007825 0.007625 0.01165  0.009125 0.007525 0.008475 0.010975\n",
      "  0.00845  0.0078   0.00745  0.008975 0.0096   0.009025 0.008675 0.00725\n",
      "  0.008375 0.005125 0.0177   0.00555  0.0201   0.00695  0.0202   0.0052\n",
      "  0.019825 0.12505  0.207175 0.123425 0.019025 0.007425 0.02405  0.006675\n",
      "  0.018525 0.0065   0.02235  0.0059   0.0059   0.0063   0.0067   0.0051\n",
      "  0.0049   0.005375 0.005175 0.00545  0.004675 0.007325 0.00725  0.00365\n",
      "  0.005075 0.005975 0.007025 0.003875 0.003775 0.0088   0.011175 0.005825\n",
      "  0.00405  0.008775 0.008825 0.00705  0.0053   0.004625 0.0093   0.0066\n",
      "  0.005725 0.004775 0.008875 0.0054   0.00525  0.005025 0.005325 0.005875\n",
      "  0.005975 0.00555  0.0049   0.0045   0.008875 0.017775 0.008225 0.0159\n",
      "  0.009225 0.0181   0.0075   0.016725 0.12535  0.297425 0.09745  0.01555\n",
      "  0.009525 0.019725 0.010375 0.014875 0.009775 0.0185   0.00995  0.0063\n",
      "  0.0064   0.0065   0.0052   0.005625 0.006425 0.005425 0.00545  0.004525\n",
      "  0.006125 0.00765  0.004525 0.005375 0.00515  0.007325 0.0039   0.0038\n",
      "  0.007425 0.011075 0.007025 0.00385  0.0079   0.008725 0.0073   0.00575\n",
      "  0.004775 0.009    0.006525 0.00635  0.005275 0.007675 0.0062   0.004975\n",
      "  0.005675 0.0056   0.005875 0.00605  0.0054   0.005275 0.005525 0.010975\n",
      "  0.015025 0.009775 0.0125   0.011325 0.01645  0.009825 0.01275  0.09705\n",
      "  0.353675]\n",
      " [0.1146   0.0258   0.00475  0.021575 0.003925 0.023375 0.003925 0.0194\n",
      "  0.003625 0.0092   0.009075 0.00735  0.006125 0.0083   0.008425 0.00645\n",
      "  0.00665  0.01065  0.009025 0.011275 0.007075 0.010375 0.00855  0.010175\n",
      "  0.005525 0.00765  0.01125  0.0099   0.00815  0.00815  0.011975 0.010375\n",
      "  0.0077   0.008575 0.0085   0.011075 0.00805  0.0113   0.008675 0.010475\n",
      "  0.0074   0.007175 0.00645  0.007675 0.00955  0.0084   0.0079   0.00945\n",
      "  0.00755  0.00485  0.015075 0.005275 0.0245   0.00645  0.017525 0.0051\n",
      "  0.023025 0.121375 0.208275 0.117675 0.0204   0.0071   0.022425 0.00705\n",
      "  0.019625 0.0064   0.020125 0.005825 0.00575  0.007025 0.00635  0.00535\n",
      "  0.006125 0.00585  0.004775 0.004725 0.00695  0.0061   0.007475 0.00435\n",
      "  0.006275 0.00685  0.0066   0.0029   0.004325 0.0095   0.011375 0.0049\n",
      "  0.004725 0.01135  0.009125 0.00535  0.0048   0.005225 0.008325 0.0061\n",
      "  0.007125 0.00605  0.009525 0.0051   0.0048   0.004425 0.005325 0.0066\n",
      "  0.0058   0.00595  0.005725 0.00505  0.007175 0.018425 0.0064   0.01995\n",
      "  0.007875 0.017925 0.00665  0.0189   0.118475 0.301575 0.095025 0.01465\n",
      "  0.0111   0.0204   0.010525 0.013375 0.00935  0.0164   0.009625 0.00605\n",
      "  0.006925 0.0059   0.00615  0.00615  0.0063   0.004975 0.004725 0.0054\n",
      "  0.0063   0.00745  0.0048   0.00665  0.006725 0.005975 0.00345  0.004525\n",
      "  0.00815  0.0114   0.005775 0.005275 0.010475 0.00895  0.005225 0.00555\n",
      "  0.005325 0.0082   0.00625  0.00645  0.005675 0.00805  0.005775 0.0048\n",
      "  0.00495  0.005925 0.006925 0.0065   0.00625  0.00615  0.0061   0.009775\n",
      "  0.015825 0.01005  0.013025 0.010625 0.016625 0.010575 0.01175  0.092125\n",
      "  0.3566  ]\n",
      " [0.121675 0.034825 0.003025 0.018925 0.0025   0.034625 0.002975 0.018075\n",
      "  0.003025 0.008575 0.008925 0.00565  0.0056   0.008275 0.00685  0.00545\n",
      "  0.00585  0.008075 0.0065   0.008075 0.006575 0.00795  0.007025 0.007975\n",
      "  0.0068   0.007225 0.0081   0.007075 0.0067   0.00655  0.007325 0.0077\n",
      "  0.00755  0.00975  0.006975 0.0079   0.006875 0.010525 0.006325 0.00805\n",
      "  0.00685  0.0072   0.0055   0.00745  0.0084   0.005875 0.006375 0.008475\n",
      "  0.00745  0.003875 0.0143   0.003525 0.03715  0.004125 0.013125 0.00395\n",
      "  0.03415  0.12755  0.22625  0.121925 0.023425 0.00585  0.0247   0.00525\n",
      "  0.023625 0.005425 0.02415  0.006075 0.0044   0.0052   0.005    0.00425\n",
      "  0.00375  0.0043   0.003975 0.004225 0.004475 0.00455  0.00535  0.004225\n",
      "  0.005375 0.00345  0.0052   0.002675 0.00295  0.00915  0.007875 0.004375\n",
      "  0.0037   0.008175 0.00665  0.00335  0.0053   0.00355  0.00625  0.004525\n",
      "  0.006575 0.0038   0.005575 0.0041   0.003625 0.00405  0.0036   0.004075\n",
      "  0.004675 0.00435  0.004475 0.0035   0.00625  0.020125 0.005875 0.023275\n",
      "  0.00575  0.0225   0.00565  0.0222   0.121775 0.337525 0.09895  0.014425\n",
      "  0.009825 0.017925 0.010675 0.015125 0.00935  0.0178   0.010575 0.005075\n",
      "  0.00635  0.003925 0.0044   0.0053   0.0052   0.003725 0.004475 0.0037\n",
      "  0.00465  0.00505  0.00385  0.003825 0.00365  0.004475 0.00235  0.002675\n",
      "  0.009225 0.007925 0.00435  0.004275 0.0067   0.0069   0.002825 0.0051\n",
      "  0.00255  0.005925 0.003525 0.00635  0.003025 0.0052   0.003525 0.003075\n",
      "  0.003825 0.00565  0.006325 0.00365  0.003725 0.006075 0.005075 0.00965\n",
      "  0.015    0.0093   0.0131   0.010675 0.016375 0.011025 0.01485  0.0936\n",
      "  0.4143  ]]\n",
      "Sample of y: [1. 1. 1. 1. 1.]\n"
     ]
    }
   ],
   "source": [
    "# Display the shapes to verify\n",
    "print(f\"Features shape (X): {X.shape}\")\n",
    "print(f\"Labels shape (y): {y.shape}\")\n",
    "\n",
    "\n",
    "print(\"Sample of X:\", X[:5])\n",
    "print(\"Sample of y:\", y[:5])"
   ]
  },
  {
   "cell_type": "code",
   "execution_count": 11,
   "id": "8bc9946f",
   "metadata": {},
   "outputs": [],
   "source": [
    "# Split the data into training and testing sets with stratification\n",
    "X_train, X_test, y_train, y_test = train_test_split(X, y, test_size=0.1, random_state=42, stratify=y)"
   ]
  },
  {
   "cell_type": "code",
   "execution_count": 12,
   "id": "7d4892b9",
   "metadata": {},
   "outputs": [],
   "source": [
    "# Initialize the Random Forest classifier with class weighting\n",
    "rf_model = RandomForestClassifier(class_weight='balanced', random_state=42)"
   ]
  },
  {
   "cell_type": "code",
   "execution_count": 13,
   "id": "d2e93235",
   "metadata": {},
   "outputs": [],
   "source": [
    "# Define the hyperparameters to tune\n",
    "param_grid = {\n",
    "    'n_estimators': [100, 150, 200, 500, 1000],\n",
    "    'max_depth': [None, 10, 20, 30],\n",
    "    'min_samples_split': [2, 5, 10],\n",
    "    'min_samples_leaf': [1, 2, 4]\n",
    "}"
   ]
  },
  {
   "cell_type": "code",
   "execution_count": 14,
   "id": "e8136488",
   "metadata": {},
   "outputs": [],
   "source": [
    "# Use GridSearchCV to find the best hyperparameters\n",
    "grid_search = GridSearchCV(estimator=rf_model, param_grid=param_grid, \n",
    "                           cv=5, n_jobs=-1, verbose=2)"
   ]
  },
  {
   "cell_type": "code",
   "execution_count": 15,
   "id": "fadfcf9a",
   "metadata": {},
   "outputs": [
    {
     "name": "stdout",
     "output_type": "stream",
     "text": [
      "Fitting 5 folds for each of 180 candidates, totalling 900 fits\n"
     ]
    }
   ],
   "source": [
    "# Fit GridSearchCV to the training data\n",
    "grid_search.fit(X_train, y_train)\n",
    "# Get the best model from grid search\n",
    "best_rf_model = grid_search.best_estimator_"
   ]
  },
  {
   "cell_type": "code",
   "execution_count": 16,
   "id": "9e4ea204",
   "metadata": {},
   "outputs": [],
   "source": [
    "# Make predictions on the test set\n",
    "y_pred = best_rf_model.predict(X_test)"
   ]
  },
  {
   "cell_type": "code",
   "execution_count": 17,
   "id": "41e5d69a",
   "metadata": {},
   "outputs": [
    {
     "name": "stdout",
     "output_type": "stream",
     "text": [
      "Best Parameters: {'max_depth': None, 'min_samples_leaf': 4, 'min_samples_split': 2, 'n_estimators': 150}\n",
      "Classification Report:\n",
      "              precision    recall  f1-score   support\n",
      "\n",
      "         0.0       0.83      0.71      0.77         7\n",
      "         1.0       0.75      0.86      0.80         7\n",
      "\n",
      "    accuracy                           0.79        14\n",
      "   macro avg       0.79      0.79      0.78        14\n",
      "weighted avg       0.79      0.79      0.78        14\n",
      "\n",
      "Accuracy Score: 0.7857142857142857\n"
     ]
    }
   ],
   "source": [
    "# Evaluate the model\n",
    "print(\"Best Parameters:\", grid_search.best_params_)\n",
    "print(\"Classification Report:\")\n",
    "print(classification_report(y_test, y_pred))\n",
    "print(\"Accuracy Score:\", accuracy_score(y_test, y_pred))"
   ]
  },
  {
   "cell_type": "code",
   "execution_count": 157,
   "id": "d1e50440",
   "metadata": {},
   "outputs": [
    {
     "data": {
      "text/plain": [
       "0.7857142857142857"
      ]
     },
     "execution_count": 157,
     "metadata": {},
     "output_type": "execute_result"
    }
   ],
   "source": [
    "grid_search.score(X_test, y_test)"
   ]
  },
  {
   "cell_type": "code",
   "execution_count": 18,
   "id": "dcfc79fc",
   "metadata": {},
   "outputs": [],
   "source": [
    "from sklearn.ensemble import GradientBoostingClassifier\n",
    "clf = GradientBoostingClassifier(random_state=42)"
   ]
  },
  {
   "cell_type": "code",
   "execution_count": 23,
   "id": "3b06688e",
   "metadata": {},
   "outputs": [],
   "source": [
    "from sklearn.ensemble import ExtraTreesClassifier\n",
    "clf = ExtraTreesClassifier(class_weight='balanced', random_state=42)"
   ]
  },
  {
   "cell_type": "code",
   "execution_count": 24,
   "id": "26b6ed60",
   "metadata": {},
   "outputs": [],
   "source": [
    "grid_search = GridSearchCV(estimator=clf, param_grid=param_grid, \n",
    "                           cv=5, n_jobs=-1, verbose=2)"
   ]
  },
  {
   "cell_type": "code",
   "execution_count": 25,
   "id": "12a7ab7b",
   "metadata": {},
   "outputs": [
    {
     "name": "stdout",
     "output_type": "stream",
     "text": [
      "Fitting 5 folds for each of 180 candidates, totalling 900 fits\n"
     ]
    }
   ],
   "source": [
    "# Fit GridSearchCV to the training data\n",
    "grid_search.fit(X_train, y_train)\n",
    "# Get the best model from grid search\n",
    "best_rf_model = grid_search.best_estimator_"
   ]
  },
  {
   "cell_type": "code",
   "execution_count": 26,
   "id": "7018f10f",
   "metadata": {},
   "outputs": [],
   "source": [
    "y_pred = best_rf_model.predict(X_test)"
   ]
  },
  {
   "cell_type": "code",
   "execution_count": 27,
   "id": "00457b1d",
   "metadata": {},
   "outputs": [
    {
     "name": "stdout",
     "output_type": "stream",
     "text": [
      "Best Parameters: {'max_depth': 10, 'min_samples_leaf': 2, 'min_samples_split': 5, 'n_estimators': 100}\n",
      "Classification Report:\n",
      "              precision    recall  f1-score   support\n",
      "\n",
      "         0.0       1.00      0.57      0.73         7\n",
      "         1.0       0.70      1.00      0.82         7\n",
      "\n",
      "    accuracy                           0.79        14\n",
      "   macro avg       0.85      0.79      0.78        14\n",
      "weighted avg       0.85      0.79      0.78        14\n",
      "\n",
      "Accuracy Score: 0.7857142857142857\n"
     ]
    }
   ],
   "source": [
    "# Evaluate the model\n",
    "print(\"Best Parameters:\", grid_search.best_params_)\n",
    "print(\"Classification Report:\")\n",
    "print(classification_report(y_test, y_pred))\n",
    "print(\"Accuracy Score:\", accuracy_score(y_test, y_pred))"
   ]
  },
  {
   "cell_type": "code",
   "execution_count": 114,
   "id": "35e2faaa",
   "metadata": {},
   "outputs": [],
   "source": [
    "y_pred = best_rf_model.predict_proba(X_test)"
   ]
  },
  {
   "cell_type": "code",
   "execution_count": 115,
   "id": "244ab99d",
   "metadata": {},
   "outputs": [
    {
     "name": "stdout",
     "output_type": "stream",
     "text": [
      "[[0.44700964 0.55299036]\n",
      " [0.55283857 0.44716143]\n",
      " [0.26919455 0.73080545]\n",
      " [0.44291895 0.55708105]\n",
      " [0.32510329 0.67489671]\n",
      " [0.41945911 0.58054089]\n",
      " [0.63157071 0.36842929]\n",
      " [0.44812099 0.55187901]\n",
      " [0.27929291 0.72070709]\n",
      " [0.68117532 0.31882468]\n",
      " [0.53326708 0.46673292]\n",
      " [0.38411655 0.61588345]\n",
      " [0.53992569 0.46007431]\n",
      " [0.52587448 0.47412552]] [1. 0. 1. 0. 1. 0. 0. 1. 1. 0. 0. 1. 0. 1.]\n"
     ]
    }
   ],
   "source": [
    "print(y_pred,y_test)"
   ]
  },
  {
   "cell_type": "code",
   "execution_count": 116,
   "id": "abd95e59",
   "metadata": {},
   "outputs": [],
   "source": [
    "y_pred = best_rf_model.predict(X_test)"
   ]
  },
  {
   "cell_type": "code",
   "execution_count": 117,
   "id": "92538675",
   "metadata": {},
   "outputs": [
    {
     "data": {
      "text/plain": [
       "array([1., 0., 1., 1., 1., 1., 0., 1., 1., 0., 0., 1., 0., 0.])"
      ]
     },
     "execution_count": 117,
     "metadata": {},
     "output_type": "execute_result"
    }
   ],
   "source": [
    "y_pred"
   ]
  },
  {
   "cell_type": "code",
   "execution_count": 30,
   "id": "15847e14",
   "metadata": {},
   "outputs": [
    {
     "name": "stdout",
     "output_type": "stream",
     "text": [
      "              precision    recall  f1-score   support\n",
      "\n",
      "         0.0       1.00      0.57      0.73         7\n",
      "         1.0       0.70      1.00      0.82         7\n",
      "\n",
      "    accuracy                           0.79        14\n",
      "   macro avg       0.85      0.79      0.78        14\n",
      "weighted avg       0.85      0.79      0.78        14\n",
      "\n",
      "Accuracy Score: 0.7857142857142857\n"
     ]
    }
   ],
   "source": [
    "from sklearn.neural_network import MLPClassifier\n",
    "clf = MLPClassifier(random_state=1, max_iter=300000, hidden_layer_sizes=(512,512,512,512)).fit(X_train, y_train)\n",
    "y_pred = clf.predict(X_test)\n",
    "print(classification_report(y_test, y_pred))\n",
    "print(\"Accuracy Score:\", accuracy_score(y_test, y_pred))"
   ]
  },
  {
   "cell_type": "code",
   "execution_count": null,
   "id": "6b95f398",
   "metadata": {},
   "outputs": [],
   "source": []
  }
 ],
 "metadata": {
  "kernelspec": {
   "display_name": "Python 3 (ipykernel)",
   "language": "python",
   "name": "python3"
  },
  "language_info": {
   "codemirror_mode": {
    "name": "ipython",
    "version": 3
   },
   "file_extension": ".py",
   "mimetype": "text/x-python",
   "name": "python",
   "nbconvert_exporter": "python",
   "pygments_lexer": "ipython3",
   "version": "3.12.4"
  }
 },
 "nbformat": 4,
 "nbformat_minor": 5
}
